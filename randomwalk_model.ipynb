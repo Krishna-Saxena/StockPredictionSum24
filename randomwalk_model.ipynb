{
 "cells": [
  {
   "cell_type": "code",
   "execution_count": 1,
   "metadata": {},
   "outputs": [
    {
     "name": "stdout",
     "output_type": "stream",
     "text": [
      "NVIDIA GeForce RTX 4080 Laptop GPU\n",
      "Memory Usage:\n",
      "Allocated: 0.0 GB\n",
      "Cached:    0.0 GB\n"
     ]
    }
   ],
   "source": [
    "# GPU Testing and print related info\n",
    "import torch\n",
    "\n",
    "device = torch.device(\"cuda\" if torch.cuda.is_available() else \"mps\" if torch.backends.mps.is_available() else \"cpu\")\n",
    "if device.type == 'cuda':\n",
    "    print(torch.cuda.get_device_name(0))\n",
    "    print('Memory Usage:')\n",
    "    print('Allocated:', round(torch.cuda.memory_allocated(0)/1024**3,1), 'GB')\n",
    "    print('Cached:   ', round(torch.cuda.memory_reserved(0)/1024**3,1), 'GB')\n",
    "else:\n",
    "    print(device)"
   ]
  },
  {
   "cell_type": "code",
   "execution_count": 2,
   "metadata": {},
   "outputs": [
    {
     "name": "stdout",
     "output_type": "stream",
     "text": [
      "Date\n",
      "Open\n",
      "High\n",
      "Low\n",
      "Close\n",
      "Adj Close\n",
      "Volume\n",
      "Index\n",
      "(6182, 8)\n",
      "            Date        Open        High         Low       Close   Adj Close  \\\n",
      "0     11/18/1999   32.546494   35.765381   28.612303   31.473534   26.652395   \n",
      "1     11/19/1999   30.713518   30.758226   28.478184   28.880545   24.456598   \n",
      "2     11/22/1999   29.551144   31.473534   28.657009   31.473534   26.652395   \n",
      "3     11/23/1999   30.400572   31.205294   28.612303   28.612303   24.229448   \n",
      "4     11/24/1999   28.701717   29.998213   28.612303   29.372318   24.873045   \n",
      "...          ...         ...         ...         ...         ...         ...   \n",
      "6177   6/10/2024  132.869995  133.850006  132.250000  133.029999  133.029999   \n",
      "6178   6/11/2024  132.639999  132.990005  131.490005  132.110001  132.110001   \n",
      "6179   6/12/2024  133.630005  133.639999  132.330002  133.160004  133.160004   \n",
      "6180   6/13/2024  132.589996  133.000000  130.039993  130.570007  130.570007   \n",
      "6181   6/14/2024  130.000000  130.740005  129.240005  129.850006  129.850006   \n",
      "\n",
      "        Volume  Index  \n",
      "0     62546380      0  \n",
      "1     15234146      1  \n",
      "2      6577870      2  \n",
      "3      5975611      3  \n",
      "4      4843231      4  \n",
      "...        ...    ...  \n",
      "6177   1673600   6177  \n",
      "6178   2081600   6178  \n",
      "6179   2399900   6179  \n",
      "6180   2555400   6180  \n",
      "6181   2163300   6181  \n",
      "\n",
      "[6182 rows x 8 columns]\n"
     ]
    }
   ],
   "source": [
    "# Upload dataset csv file to python:\n",
    "import numpy as np\n",
    "import pandas as pd\n",
    "file_path = \"./Database/New/stocks/A.csv\"\n",
    "stock = pd.read_csv(file_path)\n",
    "stock['Index'] = stock.reset_index().index\n",
    "for column in stock:\n",
    "    print(column)\n",
    "print(stock.shape)\n",
    "print(stock)\n"
   ]
  },
  {
   "cell_type": "code",
   "execution_count": 13,
   "metadata": {},
   "outputs": [],
   "source": [
    "# Separate the original stock dataset into a number of training blocks\n",
    "n = len(stock)\n",
    "rows_per_dataset = n // 78\n",
    "remainder = n % 78\n",
    "stock_set = []\n",
    "\n",
    "start_idx = 0\n",
    "for i in range(78):\n",
    "    if i < remainder:\n",
    "        end_idx = start_idx + rows_per_dataset + 1\n",
    "    else:\n",
    "        end_idx = start_idx + rows_per_dataset\n",
    "    stock_bloc = stock.iloc[start_idx : end_idx]\n",
    "    start_idx = end_idx\n",
    "    stock_set.append(stock_bloc)"
   ]
  },
  {
   "cell_type": "code",
   "execution_count": 16,
   "metadata": {},
   "outputs": [
    {
     "name": "stdout",
     "output_type": "stream",
     "text": [
      "Empty DataFrame\n",
      "Columns: [Date, Open, High, Low, Close, Adj Close, Volume, Index]\n",
      "Index: []\n"
     ]
    }
   ],
   "source": [
    "# Select specific columns from a single stock:\n",
    "C = stock_set[1][\"High\"]\n",
    "t = stock_set[1][\"Index\"]\n",
    "print(stock)\n"
   ]
  },
  {
   "cell_type": "code",
   "execution_count": 17,
   "metadata": {},
   "outputs": [],
   "source": [
    "# Algorithm 1:\n",
    "import math as m\n",
    "p = [None]*79\n",
    "u = [None]*79\n",
    "d = [None]*79\n",
    "C_pred = [None]*79\n",
    "for k in t:\n",
    "    C_pred[k+1] = C[k]*u[k]*p[k] + C[k]*d[k]*(1-p[k])\n",
    "    # Absolute value means L1-Distance, but also could use L2-Distance.\n",
    "    diff = m.abs(C_pred[k+1] - C[k+1])\n"
   ]
  },
  {
   "cell_type": "code",
   "execution_count": 18,
   "metadata": {},
   "outputs": [],
   "source": [
    "# Algorithm 2:\n",
    "p = [None]*79\n",
    "n = [None]*79\n",
    "C_sub = [None]*79\n",
    "C_pred = [None]*79\n",
    "for i in t:\n",
    "    for j in range(n[i]):\n",
    "        C_sub[i+j+1] = (C_sub[i+j] + 1*(1/(m.sqrt(n))))*p[i]\n",
    "        + (C_sub[i+j] + (-1)*(1/(m.sqrt(n))))*(1-p[i])\n",
    "    C_pred[i+1] = C_sub[i+j+1]\n",
    "    # L1-Distance\n",
    "    diff = m.abs(C_pred[i+1] - C[i+1])"
   ]
  },
  {
   "cell_type": "code",
   "execution_count": null,
   "metadata": {},
   "outputs": [],
   "source": [
    "# RNN Training:\n",
    "import tensorflow as tf\n",
    "\n",
    "# ... "
   ]
  }
 ],
 "metadata": {
  "kernelspec": {
   "display_name": "base",
   "language": "python",
   "name": "python3"
  },
  "language_info": {
   "codemirror_mode": {
    "name": "ipython",
    "version": 3
   },
   "file_extension": ".py",
   "mimetype": "text/x-python",
   "name": "python",
   "nbconvert_exporter": "python",
   "pygments_lexer": "ipython3",
   "version": "3.12.4"
  }
 },
 "nbformat": 4,
 "nbformat_minor": 2
}
