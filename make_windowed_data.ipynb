{
 "cells": [
  {
   "cell_type": "code",
   "execution_count": 1,
   "id": "initial_id",
   "metadata": {
    "collapsed": true,
    "ExecuteTime": {
     "end_time": "2024-07-11T04:01:52.262915500Z",
     "start_time": "2024-07-11T04:01:49.692275600Z"
    }
   },
   "outputs": [],
   "source": [
    "from Utils.GBM_Utils import get_MLE_params, sample_GBM\n",
    "from Utils.Data_Processing import STOCK_PRICE_DTYPE, STOCK_DT_DTYPE\n",
    "\n",
    "import os\n",
    "\n",
    "import numpy as np\n",
    "import tqdm\n",
    "import pandas as pd\n",
    "import matplotlib.pyplot as plt"
   ]
  },
  {
   "cell_type": "code",
   "execution_count": 2,
   "id": "b20082b38c43abab",
   "metadata": {
    "collapsed": false,
    "ExecuteTime": {
     "end_time": "2024-07-11T04:01:52.269010400Z",
     "start_time": "2024-07-11T04:01:52.262915500Z"
    }
   },
   "outputs": [],
   "source": [
    "DATA_DIR = './Data/stocks'\n",
    "SPLIT_DATE = pd.to_datetime('2019-06-01', format='%Y-%m-%d')\n",
    "\n",
    "CSV_METRIC_INDICES = {\n",
    "    'Open' : 1,\n",
    "    'High' : 2,\n",
    "    'Low' : 3,\n",
    "    'Close' : 4,\n",
    "    'Adj Close' : 5\n",
    "}\n",
    "\n",
    "METRIC_COL = 'High'"
   ]
  },
  {
   "cell_type": "code",
   "execution_count": 3,
   "id": "da6c918206c92f06",
   "metadata": {
    "collapsed": false,
    "ExecuteTime": {
     "end_time": "2024-07-11T04:01:52.285336800Z",
     "start_time": "2024-07-11T04:01:52.269010400Z"
    }
   },
   "outputs": [],
   "source": [
    "T_PAST = 60\n",
    "T_FUT = 20\n",
    "STEP_SZ = T_PAST//2"
   ]
  },
  {
   "cell_type": "code",
   "execution_count": 4,
   "id": "748b15abe89207d0",
   "metadata": {
    "collapsed": false,
    "ExecuteTime": {
     "end_time": "2024-07-11T04:01:52.297146700Z",
     "start_time": "2024-07-11T04:01:52.286656400Z"
    }
   },
   "outputs": [],
   "source": [
    "WINDOW_SAVE_DIR = f'./Data/windowed_data_{T_PAST}_{T_FUT}_{STEP_SZ}'\n",
    "WINDOW_DT_SAVE_DIR = f'./Data/windowed_dt_data_{T_PAST}_{T_FUT}_{STEP_SZ}'\n",
    "\n",
    "os.makedirs(WINDOW_SAVE_DIR, exist_ok=True)\n",
    "os.makedirs(WINDOW_DT_SAVE_DIR, exist_ok=True)\n",
    "os.makedirs('Figures', exist_ok=True)"
   ]
  },
  {
   "cell_type": "code",
   "execution_count": 5,
   "id": "d38b9d0f29c3e8a4",
   "metadata": {
    "collapsed": false,
    "ExecuteTime": {
     "end_time": "2024-07-11T04:01:53.629288200Z",
     "start_time": "2024-07-11T04:01:52.295142600Z"
    }
   },
   "outputs": [],
   "source": [
    "data_dict = {}\n",
    "\n",
    "for i, f_name in enumerate(sorted(os.listdir(DATA_DIR))):\n",
    "  f_dir = os.path.join(DATA_DIR, f_name)\n",
    "  # read only the date 0th and adjusted close price 5th cols\n",
    "  timeseries_df = pd.read_csv(f_dir, usecols=[0, CSV_METRIC_INDICES[METRIC_COL]], parse_dates=['Date'])\n",
    "  timeseries_df['time'] = (timeseries_df['Date']-timeseries_df['Date'].min()).dt.days.values\n",
    "  timeseries_df['dt'] = timeseries_df['time'] - timeseries_df['time'].shift(1)\n",
    "  timeseries_df.loc[0, 'dt'] = 0\n",
    "  \n",
    "  timeseries_df[METRIC_COL] = timeseries_df[METRIC_COL].astype(STOCK_PRICE_DTYPE)\n",
    "  timeseries_df['dt'] = timeseries_df['dt'].astype(STOCK_DT_DTYPE)\n",
    "  data_dict[f_name.split('.')[0]] = timeseries_df\n",
    "  \n",
    "  if DEBUG := False:\n",
    "    break"
   ]
  },
  {
   "cell_type": "code",
   "execution_count": 6,
   "id": "77618a99d5e81162",
   "metadata": {
    "collapsed": false,
    "ExecuteTime": {
     "end_time": "2024-07-11T04:01:53.636310800Z",
     "start_time": "2024-07-11T04:01:53.632288200Z"
    }
   },
   "outputs": [],
   "source": [
    "if DEBUG:\n",
    "  fig, ax = plt.subplots(1, 1, figsize=(15, 6))\n",
    "  data_df = data_dict['AAPL']\n",
    "  \n",
    "  train_df = data_df[data_df['Date'] < SPLIT_DATE]\n",
    "  test_df = data_df[~(data_df['Date'] < SPLIT_DATE)]\n",
    "  \n",
    "  mu_hat, sigma_sq_hat = get_MLE_params(np.log(train_df[METRIC_COL].values), train_df['dt'].values)\n",
    "  mu_hat, sigma_sq_hat, mu_hat-0.5*sigma_sq_hat\n",
    "  \n",
    "  ax.plot(train_df['Date'], train_df['Adj Close'], 'bo', label='true train data', alpha=0.2, markersize=2)\n",
    "  ax.plot(test_df['Date'], test_df['Adj Close'], 'bx', label='true test data', alpha=0.2, markersize=2)\n",
    "  \n",
    "  N_SAMPLES = 10\n",
    "  for _ in range(N_SAMPLES):\n",
    "    sample_bs = sample_GBM(mu_hat, sigma_sq_hat, train_df[METRIC_COL].iloc[-1], test_df['dt'].iloc[1:].values, True)\n",
    "    ax.plot(test_df['Date'], sample_bs, 'g--', alpha=0.5)\n",
    "  \n",
    "  sample_bs = sample_GBM(mu_hat, sigma_sq_hat, data_df[METRIC_COL].iloc[0], data_df['dt'][1:].values, False)\n",
    "  ax.plot(data_df['Date'], sample_bs, 'r-', label='sampled data (no BM)')\n",
    "  \n",
    "  ax.legend()"
   ]
  },
  {
   "cell_type": "code",
   "execution_count": 7,
   "id": "a1d4953ed2a83a2d",
   "metadata": {
    "collapsed": false,
    "ExecuteTime": {
     "end_time": "2024-07-11T04:01:53.652549100Z",
     "start_time": "2024-07-11T04:01:53.637681500Z"
    }
   },
   "outputs": [],
   "source": [
    "if DEBUG:\n",
    "  for stock_ticker in data_dict:\n",
    "    fig, ax = plt.subplots(1, 2, figsize=(20, 6))\n",
    "    data_df = data_dict[stock_ticker]\n",
    "    \n",
    "    # plot the trend in the 1st subplot\n",
    "    ax[0].plot(data_df['Date'], data_df[METRIC_COL])\n",
    "    ax[0].set_title(f'Stock Price vs time for {stock_ticker}')\n",
    "    ax[0].set_xlabel('Date')\n",
    "    ax[0].set_ylabel('Share Price')\n",
    "    \n",
    "    # set up train & test data\n",
    "    train_df = data_df[data_df['Date'] < SPLIT_DATE]\n",
    "    if len(train_df) < 2:\n",
    "      continue\n",
    "    test_df = data_df[~(data_df['Date'] < SPLIT_DATE)]\n",
    "    \n",
    "    mu_hat, sigma_sq_hat = get_MLE_params(np.log(train_df[METRIC_COL].values), train_df['dt'].values)\n",
    "    # print(stock_ticker, mu_hat, sigma_sq_hat, mu_hat-sigma_sq_hat**2/2)\n",
    "    \n",
    "    ax[1].plot(train_df['Date'], train_df[METRIC_COL], 'ko', label='true train data')\n",
    "    ax[1].plot(test_df['Date'], test_df[METRIC_COL], 'kx', label='true test data')\n",
    "    \n",
    "    sample_bs = sample_GBM(mu_hat, sigma_sq_hat, data_df[METRIC_COL].iloc[0], data_df['dt'][1:].values, False)\n",
    "    ax[1].plot(data_df['Date'], sample_bs, 'r-', label='sampled data (no BM)')\n",
    "    \n",
    "    N_SAMPLES = 10\n",
    "    for _ in range(N_SAMPLES):\n",
    "      sample_bs = sample_GBM(mu_hat, sigma_sq_hat, train_df[METRIC_COL].iloc[-1], test_df['dt'].iloc[1:].values, True)\n",
    "      ax[1].plot(test_df['Date'], sample_bs, 'b--', alpha=0.5)\n",
    "      # the lines below will sample the whole history, which looks cool but is not how we would use GBM in practice\n",
    "      # sample_bs = sample_BS(mu_float, sigma_sq_float, data_df['Adj Close'].iloc[0], data_df['dt'][1:].values, True)\n",
    "      # plt.plot(data_df['Date'], sample_bs, 'b--', label='sampled data (w/ BM)', alpha=0.1)\n",
    "  \n",
    "    ax[1].legend()\n",
    "    \n",
    "    fig.tight_layout()\n",
    "    fig.savefig(f'./Figures/{stock_ticker}_EDA.png')\n",
    "    plt.close(fig)"
   ]
  },
  {
   "cell_type": "code",
   "execution_count": 8,
   "id": "40bcb7b83ff7e8d8",
   "metadata": {
    "collapsed": false,
    "ExecuteTime": {
     "end_time": "2024-07-11T04:01:55.054384Z",
     "start_time": "2024-07-11T04:01:53.655051800Z"
    }
   },
   "outputs": [
    {
     "name": "stderr",
     "output_type": "stream",
     "text": [
      "100%|██████████| 121/121 [00:01<00:00, 87.16it/s]\n"
     ]
    }
   ],
   "source": [
    "# by idx train/test window split\n",
    "\n",
    "for stock_ticker in tqdm.tqdm(data_dict):\n",
    "  # fig, ax = plt.subplots(1, 1, figsize=(10, 6))\n",
    "  data_df = data_dict[stock_ticker]\n",
    "  data_mat = None\n",
    "  data_mat_dt = None\n",
    "\n",
    "  # Windows are sized T_PAST+T_FUT with overlap T_PAST//2\n",
    "  \n",
    "  for st_idx in np.arange(0, len(data_df)-T_FUT-STEP_SZ, STEP_SZ)[:-1]:\n",
    "    # # code to plot graphs of MLE series vs time w/ multiple MLEs every T_PAST days\n",
    "    # train_df = data_df.iloc[st_idx:st_idx+T_PAST]\n",
    "    # test_df = data_df.iloc[st_idx+T_PAST:st_idx+T_PAST+T_FUT]\n",
    "    # try:\n",
    "    #   mu_hat, sigma_sq_hat = get_MLE_params(np.log(train_df[METRIC_COL].values), train_df['dt'].values)\n",
    "    # except RuntimeWarning:\n",
    "    #   continue\n",
    "    # print(stock_ticker, mu_hat, sigma_sq_hat, mu_hat-sigma_sq_hat**2/2)\n",
    "    # ax.plot(train_df['Date'], train_df[METRIC_COL], 'bo', label='true train data', alpha=0.2, markersize=2)\n",
    "    # \n",
    "    # sample_bs = sample_BS(mu_hat, sigma_sq_hat, train_df[METRIC_COL].iloc[0], train_df['dt'][1:].values, False)\n",
    "    # ax.plot(train_df['Date'], sample_bs, 'r-', label='sampled data (no BM)', alpha=0.5)\n",
    "    # \n",
    "    # N_SAMPLES = 10\n",
    "    # for _ in range(N_SAMPLES):\n",
    "    #     sample_bs = sample_BS(mu_hat, sigma_sq_hat, train_df[METRIC_COL].iloc[-1], test_df['dt'][1:].values, True)\n",
    "    #     ax.plot(test_df['Date'], sample_bs, 'k-', alpha=1.0, zorder=2.5)\n",
    "    \n",
    "    close_prices = data_df[METRIC_COL].iloc[st_idx:st_idx+T_PAST+T_FUT].values.reshape(1, -1)\n",
    "    if close_prices.max() > 1e6 or close_prices.min() < 0:\n",
    "      continue\n",
    "    if data_mat is None:\n",
    "      data_mat = close_prices\n",
    "      data_mat_dt = data_df['dt'].iloc[st_idx:st_idx+T_PAST+T_FUT].values.reshape(1, -1)\n",
    "    else:\n",
    "      data_mat = np.concatenate((data_mat, close_prices), axis=0)\n",
    "      data_mat_dt = np.concatenate((data_mat_dt, data_df['dt'].iloc[st_idx:st_idx+T_PAST+T_FUT].values.reshape(1, -1)), axis=0)\n",
    "\n",
    "    # fig.tight_layout()\n",
    "    # fig.savefig(f'./Figures/{stock_ticker}_EDA_num_split.png')\n",
    "    # plt.show()\n",
    "    # plt.close(fig)\n",
    "\n",
    "  np.save(os.path.join(WINDOW_SAVE_DIR, f'{stock_ticker}_windows.npy'), data_mat)\n",
    "  np.save(os.path.join(WINDOW_DT_SAVE_DIR, f'{stock_ticker}_windows_dt.npy'), data_mat_dt)"
   ]
  },
  {
   "cell_type": "code",
   "execution_count": 9,
   "id": "1f624d7ea313c710",
   "metadata": {
    "collapsed": false,
    "ExecuteTime": {
     "end_time": "2024-07-11T04:01:55.062583800Z",
     "start_time": "2024-07-11T04:01:55.052879300Z"
    }
   },
   "outputs": [
    {
     "data": {
      "text/plain": "(364, 80)"
     },
     "execution_count": 9,
     "metadata": {},
     "output_type": "execute_result"
    }
   ],
   "source": [
    "AAPL_windows = np.load(os.path.join(WINDOW_SAVE_DIR, 'AAPL_windows.npy'))\n",
    "AAPL_windows.shape"
   ]
  }
 ],
 "metadata": {
  "kernelspec": {
   "display_name": "Python 3",
   "language": "python",
   "name": "python3"
  },
  "language_info": {
   "codemirror_mode": {
    "name": "ipython",
    "version": 3
   },
   "file_extension": ".py",
   "mimetype": "text/x-python",
   "name": "python",
   "nbconvert_exporter": "python",
   "pygments_lexer": "ipython3",
   "version": "3.12.3"
  }
 },
 "nbformat": 4,
 "nbformat_minor": 5
}
