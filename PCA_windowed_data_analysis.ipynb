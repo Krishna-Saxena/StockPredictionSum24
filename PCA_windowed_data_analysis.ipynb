{
 "cells": [
  {
   "cell_type": "code",
   "execution_count": null,
   "id": "initial_id",
   "metadata": {
    "collapsed": true
   },
   "outputs": [],
   "source": [
    "from Utils.Data_Processing import *\n",
    "\n",
    "import os\n",
    "\n",
    "import numpy as np\n",
    "import matplotlib.pyplot as plt"
   ]
  },
  {
   "cell_type": "code",
   "outputs": [],
   "source": [
    "T_PAST = 60\n",
    "T_FUT = 20"
   ],
   "metadata": {
    "collapsed": false
   },
   "id": "b523ec9526ec5b54",
   "execution_count": null
  },
  {
   "cell_type": "code",
   "outputs": [],
   "source": [
    "DATA_DIR = './Data'\n",
    "STOCK_DATA_DIR = os.path.join(DATA_DIR, 'stocks')\n",
    "WINDOW_DATA_DIR = os.path.join(DATA_DIR, f'windowed_data_{T_PAST}_{T_FUT}')\n",
    "WINDOW_DT_DATA_DIR = os.path.join(DATA_DIR, f'windowed_dt_data_{T_PAST}_{T_FUT}')\n",
    "\n",
    "TEST_STOCKS = {'NVDA', 'GM', 'LMT', 'HPQ', 'FWONK', 'MSI', 'ARM', 'MSFT', 'JNJ'}"
   ],
   "metadata": {
    "collapsed": false
   },
   "id": "8d90973b48e4e085",
   "execution_count": null
  },
  {
   "cell_type": "code",
   "outputs": [],
   "source": [
    "train_mat = np.array([], dtype=np.float32).reshape(0, T_PAST+T_FUT)\n",
    "train_mat_dt = np.array([], dtype=np.float16).reshape(0, T_PAST+T_FUT)\n",
    "test_mat = np.array([], dtype=np.float32).reshape(0, T_PAST+T_FUT)\n",
    "test_mat_dt = np.array([], dtype=np.float16).reshape(0, T_PAST+T_FUT)\n",
    "\n",
    "for f_name in sorted(os.listdir(WINDOW_DATA_DIR)):\n",
    "  f_dir = os.path.join(DATA_DIR, f_name)\n",
    "  stock_ticker = f_name.split('.')[0][:-len('_windows')]\n",
    "  \n",
    "  is_test = stock_ticker in TEST_STOCKS\n",
    "  \n",
    "  stock_windows = np.load(os.path.join(WINDOW_DATA_DIR, f'{stock_ticker}_windows.npy'))\n",
    "  stock_windows_dt = np.load(os.path.join(WINDOW_DT_DATA_DIR, f'{stock_ticker}_windows_dt.npy'))\n",
    "  \n",
    "  mat_for_stock = test_mat if is_test else train_mat\n",
    "  dt_mat_for_stock = test_mat_dt if is_test else train_mat_dt\n",
    "  \n",
    "  mat_for_stock = np.concatenate(\n",
    "    (mat_for_stock, stock_windows),\n",
    "    axis=0\n",
    "  )\n",
    "  dt_mat_for_stock = np.concatenate(\n",
    "    (dt_mat_for_stock, stock_windows_dt),\n",
    "    axis=0\n",
    "  )\n",
    "  \n",
    "  if stock_ticker in TEST_STOCKS:\n",
    "    test_mat = mat_for_stock\n",
    "    test_mat_dt = dt_mat_for_stock\n",
    "  else:\n",
    "    train_mat = mat_for_stock\n",
    "    train_mat_dt = dt_mat_for_stock"
   ],
   "metadata": {
    "collapsed": false
   },
   "id": "48da94b97a0f0f04",
   "execution_count": null
  },
  {
   "cell_type": "code",
   "outputs": [],
   "source": [
    "train_past, train_fut, train_dt_past, train_dt_fut = split_past_fut(train_mat, train_mat_dt, T_PAST)\n",
    "test_past, test_fut, test_dt_past, test_dt_fut = split_past_fut(test_mat, test_mat_dt, T_PAST)"
   ],
   "metadata": {
    "collapsed": false
   },
   "id": "b68e9229213be015",
   "execution_count": null
  },
  {
   "cell_type": "code",
   "outputs": [],
   "source": [
    "for mat in (train_past, train_fut, test_past, test_fut):\n",
    "  print(mat.min(), mat.max())"
   ],
   "metadata": {
    "collapsed": false
   },
   "id": "5e2bd49a3294bd65",
   "execution_count": null
  },
  {
   "cell_type": "markdown",
   "source": [
    "## Process Data"
   ],
   "metadata": {
    "collapsed": false
   },
   "id": "b458e53f0abaef9f"
  },
  {
   "cell_type": "code",
   "outputs": [],
   "source": [
    "scaled_tr_past, S0_tr_past = scale_by_1st_col(train_past)\n",
    "scaled_tr_fut, S0_tr_fut = scale_by_1st_col(train_fut)\n",
    "\n",
    "scaled_te_past, S0_te_past = scale_by_1st_col(test_past)\n",
    "scaled_te_fut, S0_te_fut = scale_by_1st_col(test_fut)"
   ],
   "metadata": {
    "collapsed": false
   },
   "id": "4dff1d8f29adbeaf",
   "execution_count": null
  },
  {
   "cell_type": "code",
   "outputs": [],
   "source": [
    "for mat in (scaled_tr_past, scaled_tr_fut, scaled_te_past, scaled_te_fut):\n",
    "  print(mat.min(), mat.max())"
   ],
   "metadata": {
    "collapsed": false
   },
   "id": "437ba48b410a022f",
   "execution_count": null
  },
  {
   "cell_type": "code",
   "outputs": [],
   "source": [
    "def make_PCA_train_matrix(scaled_tr_past):\n",
    "  cut_scaled_tr = scaled_tr_past[:, 1:]\n",
    "  col_means = np.mean(cut_scaled_tr, axis=0, keepdims=True)\n",
    "  \n",
    "  return col_means, cut_scaled_tr - col_means\n",
    "\n",
    "def make_PCA_test_matrix(scaled_te_past, tr_col_means):\n",
    "  return scaled_te_past[:, 1:] - tr_col_means"
   ],
   "metadata": {
    "collapsed": false
   },
   "id": "437dc59d19a395a9",
   "execution_count": null
  },
  {
   "cell_type": "code",
   "outputs": [],
   "source": [
    "tr_col_means, cut_scaled_tr_past = make_PCA_train_matrix(scaled_tr_past)\n",
    "cut_scaled_te_past = make_PCA_test_matrix(scaled_te_past, tr_col_means)"
   ],
   "metadata": {
    "collapsed": false
   },
   "id": "a9fce97e24197777",
   "execution_count": null
  },
  {
   "cell_type": "markdown",
   "source": [
    "## Compute PCA"
   ],
   "metadata": {
    "collapsed": false
   },
   "id": "67e6966befa2c8bf"
  },
  {
   "cell_type": "code",
   "outputs": [],
   "source": [
    "U, sigma, Vt = np.linalg.svd(cut_scaled_tr_past)"
   ],
   "metadata": {
    "collapsed": false
   },
   "id": "c9aeab1e6ec8b41a",
   "execution_count": null
  },
  {
   "cell_type": "code",
   "outputs": [],
   "source": [
    "energies = np.cumsum(sigma**2)/np.sum(sigma**2)\n",
    "ENERGY_THRESHOLD = 0.99\n",
    "num_modes = np.argmax(energies >= ENERGY_THRESHOLD)\n",
    "\n",
    "plt.plot(energies)\n",
    "plt.axhline(y=ENERGY_THRESHOLD, color='0.8', linestyle='--')\n",
    "print(f'# eigenvals to explain {ENERGY_THRESHOLD}% Var:', num_modes)"
   ],
   "metadata": {
    "collapsed": false
   },
   "id": "2173b5fc00e17a13",
   "execution_count": null
  },
  {
   "cell_type": "code",
   "outputs": [],
   "source": [
    "for i in range(5):\n",
    "  plt.plot(Vt[i, :], label=f'{i+1}th PC mode')\n",
    "plt.legend();"
   ],
   "metadata": {
    "collapsed": false
   },
   "id": "fefe88a8f1e84741",
   "execution_count": null
  },
  {
   "cell_type": "code",
   "outputs": [],
   "source": [
    "plt.figure(figsize=(10,10))\n",
    "\n",
    "plt.gca().set_prop_cycle('color', [plt.get_cmap('tab20')(i) for i in range(20)])\n",
    "for i in range(num_modes):\n",
    "  plt.plot(Vt[i, :], label=f'{i+1}th PC mode')\n",
    "plt.legend();"
   ],
   "metadata": {
    "collapsed": false
   },
   "id": "cf2d2bc2eaf65aaa",
   "execution_count": null
  },
  {
   "cell_type": "code",
   "outputs": [],
   "source": [
    "for i in range(num_modes, 5+num_modes):\n",
    "  plt.plot(Vt[i, :], label=f'{i+1}th PC mode')\n",
    "plt.legend();"
   ],
   "metadata": {
    "collapsed": false
   },
   "id": "c2f4bdf3c75458d4",
   "execution_count": null
  },
  {
   "cell_type": "markdown",
   "source": [
    "## Predict the Future"
   ],
   "metadata": {
    "collapsed": false
   },
   "id": "8ef1ccc2e9b998eb"
  },
  {
   "cell_type": "markdown",
   "source": [
    "### Linear Method"
   ],
   "metadata": {
    "collapsed": false
   },
   "id": "7f897b47ac70b247"
  },
  {
   "cell_type": "markdown",
   "source": [
    "#### Train Loss"
   ],
   "metadata": {
    "collapsed": false
   },
   "id": "5337a77f10f2cd9c"
  },
  {
   "cell_type": "code",
   "outputs": [],
   "source": [
    "tr_fut_col_means = scaled_tr_fut.mean(axis=0, keepdims=True)\n",
    "transform_mat = Vt[:num_modes, :].T@np.diag(1/sigma[:num_modes])@U[:, :num_modes].T@(scaled_tr_fut-tr_fut_col_means)"
   ],
   "metadata": {
    "collapsed": false
   },
   "id": "aa839d820a7e4710",
   "execution_count": null
  },
  {
   "cell_type": "code",
   "outputs": [],
   "source": [
    "# SVD based prediction of train_fut\n",
    "tr_fut_hat = cut_scaled_tr_past@transform_mat + tr_fut_col_means\n",
    "print('Train MAE', np.mean(np.abs(tr_fut_hat-scaled_tr_fut)))\n",
    "print('Train MAE (last point)', np.mean(np.abs(tr_fut_hat[:, -1]-scaled_tr_fut[:, -1])))\n",
    "\n",
    "fig, ax = plt.subplots(2, 5, figsize=(15, 10))\n",
    "\n",
    "for i in range(10):\n",
    "  ax[i//5, i%5].plot(tr_fut_hat[i, :].T, label='pred. fut.')\n",
    "  ax[i//5, i%5].plot(scaled_tr_fut[i, :].T, label='act. fut.')\n",
    "  ax[i//5, i%5].legend()"
   ],
   "metadata": {
    "collapsed": false
   },
   "id": "f4268637610a945",
   "execution_count": null
  },
  {
   "cell_type": "markdown",
   "source": [
    "#### Test Loss"
   ],
   "metadata": {
    "collapsed": false
   },
   "id": "b7f05f850ef8d4e9"
  },
  {
   "cell_type": "code",
   "outputs": [],
   "source": [
    "# SVD based prediction of test_fut\n",
    "test_future_hat = cut_scaled_te_past@transform_mat + tr_fut_col_means\n",
    "print('Test MAE', np.mean(np.abs(test_future_hat-scaled_te_fut)))\n",
    "print('Test MAE (last pt)', np.mean(np.abs(test_future_hat[:, -1]-scaled_te_fut[:, -1])))\n",
    "\n",
    "fig, ax = plt.subplots(2, 5, figsize=(20, 10))\n",
    "\n",
    "for i in range(10):\n",
    "  ax[i//5, i%5].plot(test_future_hat[i, :].T, label='pred. fut.')\n",
    "  ax[i//5, i%5].plot(scaled_te_fut[i, :].T, label='act. fut.')\n",
    "  ax[i//5, i%5].legend()"
   ],
   "metadata": {
    "collapsed": false
   },
   "id": "c874775fbee14e70",
   "execution_count": null
  }
 ],
 "metadata": {
  "kernelspec": {
   "display_name": "Python 3",
   "language": "python",
   "name": "python3"
  },
  "language_info": {
   "codemirror_mode": {
    "name": "ipython",
    "version": 2
   },
   "file_extension": ".py",
   "mimetype": "text/x-python",
   "name": "python",
   "nbconvert_exporter": "python",
   "pygments_lexer": "ipython2",
   "version": "2.7.6"
  }
 },
 "nbformat": 4,
 "nbformat_minor": 5
}
