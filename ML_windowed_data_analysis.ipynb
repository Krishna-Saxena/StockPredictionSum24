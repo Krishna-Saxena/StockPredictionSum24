{
 "cells": [
  {
   "cell_type": "code",
   "execution_count": null,
   "id": "initial_id",
   "metadata": {
    "collapsed": true
   },
   "outputs": [],
   "source": [
    "from Utils.Data_Processing import *\n",
    "\n",
    "import os\n",
    "\n",
    "import numpy as np\n",
    "import matplotlib.pyplot as plt\n",
    "\n",
    "import torch\n",
    "import torch.nn as nn\n",
    "import torch.optim as optim"
   ]
  },
  {
   "cell_type": "code",
   "execution_count": null,
   "id": "da6c918206c92f06",
   "metadata": {
    "collapsed": false
   },
   "outputs": [],
   "source": [
    "T_PAST = 60\n",
    "T_FUT = 20"
   ]
  },
  {
   "cell_type": "code",
   "outputs": [],
   "source": [
    "DATA_DIR = './Data'\n",
    "STOCK_DATA_DIR = os.path.join(DATA_DIR, 'stocks')\n",
    "WINDOW_DATA_DIR = os.path.join(DATA_DIR, f'windowed_data_{T_PAST}_{T_FUT}')\n",
    "WINDOW_DT_DATA_DIR = os.path.join(DATA_DIR, f'windowed_dt_data_{T_PAST}_{T_FUT}')\n",
    "\n",
    "TEST_STOCKS = {'NVDA', 'GM', 'LMT', 'HPQ', 'FWONK', 'MSI', 'ARM', 'MSFT', 'JNJ'}"
   ],
   "metadata": {
    "collapsed": false
   },
   "id": "92c9993d13e9c772",
   "execution_count": null
  },
  {
   "cell_type": "markdown",
   "source": [
    "## Read Data\n",
    "  see [PCA_windowed_data_analysis.ipynb](./PCA_windowed_data_analysis.ipynb) for more comments/checks/visualizations"
   ],
   "metadata": {
    "collapsed": false
   },
   "id": "2a2a895e3645f1e5"
  },
  {
   "cell_type": "code",
   "outputs": [],
   "source": [
    "train_mat = np.array([], dtype=np.float32).reshape(0, T_PAST+T_FUT)\n",
    "train_mat_dt = np.array([], dtype=np.float16).reshape(0, T_PAST+T_FUT)\n",
    "test_mat = np.array([], dtype=np.float32).reshape(0, T_PAST+T_FUT)\n",
    "test_mat_dt = np.array([], dtype=np.float16).reshape(0, T_PAST+T_FUT)\n",
    "\n",
    "for f_name in sorted(os.listdir(WINDOW_DATA_DIR)):\n",
    "  f_dir = os.path.join(DATA_DIR, f_name)\n",
    "  stock_ticker = f_name.split('.')[0][:-len('_windows')]\n",
    "  \n",
    "  is_test = stock_ticker in TEST_STOCKS\n",
    "  \n",
    "  stock_windows = np.load(os.path.join(WINDOW_DATA_DIR, f'{stock_ticker}_windows.npy'))\n",
    "  stock_windows_dt = np.load(os.path.join(WINDOW_DT_DATA_DIR, f'{stock_ticker}_windows_dt.npy'))\n",
    "  \n",
    "  mat_for_stock = test_mat if is_test else train_mat\n",
    "  dt_mat_for_stock = test_mat_dt if is_test else train_mat_dt\n",
    "  \n",
    "  mat_for_stock = np.concatenate(\n",
    "    (mat_for_stock, stock_windows),\n",
    "    axis=0\n",
    "  )\n",
    "  dt_mat_for_stock = np.concatenate(\n",
    "    (dt_mat_for_stock, stock_windows_dt),\n",
    "    axis=0\n",
    "  )\n",
    "  \n",
    "  if is_test:\n",
    "    test_mat = mat_for_stock\n",
    "    test_mat_dt = dt_mat_for_stock\n",
    "  else:\n",
    "    train_mat = mat_for_stock\n",
    "    train_mat_dt = dt_mat_for_stock"
   ],
   "metadata": {
    "collapsed": false
   },
   "id": "9a76bfb5465641b5",
   "execution_count": null
  },
  {
   "cell_type": "code",
   "outputs": [],
   "source": [
    "train_past, train_fut, train_dt_past, train_dt_fut = split_past_fut(train_mat, train_mat_dt, T_PAST)\n",
    "test_past, test_fut, test_dt_past, test_dt_fut = split_past_fut(test_mat, test_mat_dt, T_PAST)"
   ],
   "metadata": {
    "collapsed": false
   },
   "id": "20b37b53707ede9b",
   "execution_count": null
  },
  {
   "cell_type": "code",
   "outputs": [],
   "source": [
    "scaled_tr_past, S0_tr_past = scale_by_1st_col(train_past)\n",
    "scaled_tr_fut, S0_tr_fut = scale_by_1st_col(train_fut)\n",
    "\n",
    "scaled_te_past, S0_te_past = scale_by_1st_col(test_past)\n",
    "scaled_te_fut, S0_te_fut = scale_by_1st_col(test_fut)"
   ],
   "metadata": {
    "collapsed": false
   },
   "id": "f2dd4732b92322a2",
   "execution_count": null
  },
  {
   "cell_type": "markdown",
   "source": [
    "# Pytorch Analysis\n",
    "## MLP Model"
   ],
   "metadata": {
    "collapsed": false
   },
   "id": "44502f3ddcb029fa"
  },
  {
   "cell_type": "code",
   "execution_count": null,
   "id": "4f98432d",
   "metadata": {},
   "outputs": [],
   "source": [
    "X_train_tensor = torch.tensor(scaled_tr_past, dtype=torch.float32)\n",
    "y_train_tensor = torch.tensor(scaled_tr_fut, dtype=torch.float32)\n",
    "X_test_tensor = torch.tensor(scaled_te_past, dtype=torch.float32)\n",
    "y_test_tensor = torch.tensor(scaled_te_fut, dtype=torch.float32)\n",
    "\n",
    "# Build the neural network model\n",
    "# Define the model architecture\n",
    "model = nn.Sequential(\n",
    "  nn.Linear(T_PAST, 100),\n",
    "  nn.ReLU(),\n",
    "  nn.Linear(100, 100),\n",
    "  nn.ReLU(),\n",
    "  nn.Linear(100, 40),\n",
    "  nn.ReLU(),\n",
    "  nn.Linear(40, T_FUT)\n",
    ")\n",
    "\n",
    "# Define loss function and optimizer\n",
    "criterion = nn.MSELoss()  # Mean Squared Error loss\n",
    "optimizer = optim.Adam(model.parameters())  # Adam optimizer\n",
    "\n",
    "num_epochs = 1000\n",
    "epochs = list(range(num_epochs))\n",
    "train_losses, test_losses, train_maes, test_maes = [], [], [], []\n",
    "\n",
    "# Train the model\n",
    "for epoch in epochs:\n",
    "    optimizer.zero_grad()  # Zero the gradients\n",
    "    train_outputs = model(X_train_tensor)  # Forward pass\n",
    "    loss = criterion(train_outputs, y_train_tensor)  # Calculate the loss\n",
    "    loss.backward()  # Backward pass\n",
    "    optimizer.step()  # Update weights\n",
    "\n",
    "    # Evaluate the model\n",
    "    with torch.no_grad():\n",
    "        test_outputs = model(X_test_tensor)\n",
    "        train_loss = criterion(train_outputs, y_train_tensor)\n",
    "        train_losses.append(train_loss)\n",
    "        train_mae = torch.mean(torch.abs(train_outputs - y_train_tensor))\n",
    "        train_maes.append(train_mae)\n",
    "\n",
    "        test_loss = criterion(test_outputs, y_test_tensor)\n",
    "        test_losses.append(test_loss)\n",
    "\n",
    "        test_mae = torch.mean(torch.abs(test_outputs - y_test_tensor))\n",
    "        test_maes.append(test_mae)\n",
    "      \n",
    "\n",
    "print(\"Train Loss:\", train_loss.item())\n",
    "print(\"Test Loss:\", test_loss.item())\n",
    "print(\"Train MAE:\", train_mae.item())\n",
    "print(\"Test MAE:\", test_mae.item())"
   ]
  },
  {
   "cell_type": "code",
   "execution_count": null,
   "id": "42a127a9",
   "metadata": {},
   "outputs": [],
   "source": [
    "# Plot all metrics on one plot\n",
    "plt.figure(figsize=(10, 5))\n",
    "\n",
    "# Plot training and testing losses\n",
    "plt.plot(epochs, train_losses, label='Train Loss', color='blue')\n",
    "plt.plot(epochs, test_losses, label='Test Loss', linestyle='dashed', color='blue')\n",
    "\n",
    "# # Plot training and testing MAEs\n",
    "# plt.plot(epochs, train_maes, label='Train MAE', color='red')\n",
    "# plt.plot(epochs, test_maes, label='Test MAE', linestyle='dashed', color='red')\n",
    "\n",
    "plt.xlabel('Epochs')\n",
    "plt.title('Training and Testing Metrics')\n",
    "plt.legend()\n",
    "plt.grid(True)\n",
    "plt.show()\n",
    "\n",
    "print('final train loss', round(train_losses[-1].item(), 4))\n",
    "print('final test loss', round(test_losses[-1].item(), 4))"
   ]
  },
  {
   "cell_type": "code",
   "outputs": [],
   "source": [
    "fig, ax = plt.subplots(2, 5, figsize=(20, 10))\n",
    "\n",
    "with torch.no_grad():\n",
    "  for i in range(10):\n",
    "      # Split data into input and output\n",
    "      X = train_past[i:i+1, :T_PAST] # Input data\n",
    "      X = torch.tensor(X/X[:, 0:1], dtype=torch.float32)\n",
    "      y = train_fut[i:i+1, :T_PAST]  # Output data\n",
    "      y = torch.tensor(y/y[0:1, 0:1])\n",
    "      train_outputs = model(X)\n",
    "      train_outputs = train_outputs/train_outputs[:, 0:1]\n",
    "      ax[i//5, i%5].plot(train_outputs.numpy()[0], label='pred. fut.')\n",
    "      ax[i//5, i%5].plot(y.numpy()[0], label='act. fut.')\n",
    "      ax[i//5, i%5].legend()"
   ],
   "metadata": {},
   "id": "5c12c926",
   "execution_count": null
  },
  {
   "cell_type": "code",
   "outputs": [],
   "source": [
    "fig, ax = plt.subplots(2, 5, figsize=(20, 10))\n",
    "\n",
    "with torch.no_grad():\n",
    "  for i in range(10):\n",
    "      # Split data into input and output\n",
    "      X = test_past[i:i+1, :120] # Input data\n",
    "      X = torch.tensor(X/X[:, 0:1], dtype=torch.float32)\n",
    "      y = test_fut[i:i+1, :120]  # Output data\n",
    "      y = torch.tensor(y/y[:, 0:1])\n",
    "      test_outputs = model(X)\n",
    "      test_outputs = test_outputs/test_outputs[:, 0:1]\n",
    "      ax[i//5, i%5].plot(test_outputs.numpy()[0], label='pred. fut.')\n",
    "      ax[i//5, i%5].plot(y.numpy()[0], label='act. fut.')\n",
    "      ax[i//5, i%5].legend()"
   ],
   "metadata": {
    "collapsed": false
   },
   "id": "bd72aeb5cb202303",
   "execution_count": null
  },
  {
   "cell_type": "markdown",
   "source": [
    "## CNN\n",
    "1D Convolutional model"
   ],
   "metadata": {
    "collapsed": false
   },
   "id": "6bd90f5916d6737e"
  },
  {
   "cell_type": "code",
   "execution_count": null,
   "id": "56e18ce7",
   "metadata": {},
   "outputs": [],
   "source": [
    "model = nn.Sequential(\n",
    "  #\n",
    "  nn.Conv1d(in_channels=1, out_channels=1, kernel_size=10),\n",
    "  nn.Linear(120, 80),\n",
    "  nn.ReLU(),\n",
    "  nn.Linear(80, 40),\n",
    "  nn.ReLU(),\n",
    "  nn.Linear(40, 20)\n",
    ")\n",
    "\n",
    "# Define loss function and optimizer\n",
    "criterion = nn.MSELoss()  # Mean Squared Error loss\n",
    "optimizer = optim.Adam(model.parameters())  # Adam optimizer\n",
    "\n",
    "num_epochs = 1000\n",
    "epochs = list(range(num_epochs))\n",
    "train_losses, test_losses, train_maes, test_maes = [], [], [], []\n",
    "\n",
    "# Train the model\n",
    "for epoch in epochs:\n",
    "    optimizer.zero_grad()  # Zero the gradients\n",
    "    train_outputs = model(X_train_tensor)  # Forward pass\n",
    "    loss = criterion(train_outputs, y_train_tensor)  # Calculate the loss\n",
    "    loss.backward()  # Backward pass\n",
    "    optimizer.step()  # Update weights\n",
    "\n",
    "    # Evaluate the model\n",
    "    with torch.no_grad():\n",
    "        test_outputs = model(X_test_tensor)\n",
    "        train_loss = criterion(train_outputs, y_train_tensor)\n",
    "        train_losses.append(train_loss)\n",
    "        train_mae = torch.mean(torch.abs(train_outputs - y_train_tensor))\n",
    "        train_maes.append(train_mae)\n",
    "\n",
    "        test_loss = criterion(test_outputs, y_test_tensor)\n",
    "        test_losses.append(test_loss)\n",
    "\n",
    "        test_mae = torch.mean(torch.abs(test_outputs - y_test_tensor))\n",
    "        test_maes.append(test_mae)\n",
    "\n",
    "        \n",
    "\n",
    "print(\"Train Loss:\", train_loss.item())\n",
    "print(\"Test Loss:\", test_loss.item())\n",
    "print(\"Train MAE:\", train_mae.item())\n",
    "print(\"Test MAE:\", test_mae.item())"
   ]
  }
 ],
 "metadata": {
  "kernelspec": {
   "display_name": "Python 3",
   "language": "python",
   "name": "python3"
  },
  "language_info": {
   "codemirror_mode": {
    "name": "ipython",
    "version": 3
   },
   "file_extension": ".py",
   "mimetype": "text/x-python",
   "name": "python",
   "nbconvert_exporter": "python",
   "pygments_lexer": "ipython3",
   "version": "3.12.3"
  }
 },
 "nbformat": 4,
 "nbformat_minor": 5
}
